{
 "cells": [
  {
   "cell_type": "markdown",
   "metadata": {
    "slideshow": {
     "slide_type": "slide"
    }
   },
   "source": [
    "# Week 2 session - Review: Python basics"
   ]
  },
  {
   "cell_type": "markdown",
   "metadata": {
    "slideshow": {
     "slide_type": "slide"
    }
   },
   "source": [
    "## Variable assignment\n",
    "\n",
    "What will be the output?"
   ]
  },
  {
   "cell_type": "code",
   "execution_count": 22,
   "metadata": {},
   "outputs": [
    {
     "name": "stdout",
     "output_type": "stream",
     "text": [
      "8, 10\n"
     ]
    }
   ],
   "source": [
    "# Defining our variables\n",
    "a = 4*2\n",
    "b = a\n",
    "a += 2\n",
    "\n",
    "# Display the results\n",
    "# print(str(a) + \", \" + str(b))\n",
    "# print(a, \", \", b, sep=\"\")\n",
    "string_output = f'{b}, {a}'\n",
    "print(string_output)\n",
    "# print('{}, {}'.format(a, b))\n",
    "# print('%d, %f' % (a, b))"
   ]
  },
  {
   "cell_type": "markdown",
   "metadata": {
    "slideshow": {
     "slide_type": "slide"
    }
   },
   "source": [
    "## Strings\n",
    "\n",
    "What will be the output?"
   ]
  },
  {
   "cell_type": "code",
   "execution_count": 23,
   "metadata": {},
   "outputs": [
    {
     "name": "stdout",
     "output_type": "stream",
     "text": [
      "Charlotte\n",
      "True\n",
      "9\n"
     ]
    }
   ],
   "source": [
    "name_1 = 'Charlotte'\n",
    "name_2 = 'Tommy'\n",
    "name_3 = 'Jia'\n",
    "\n",
    "print(min(name_1, name_2, name_3))\n",
    "print(name_1 < name_2)\n",
    "\n",
    "# Find the longest string\n",
    "longest_length = max(len(name_1), len(name_2), len(name_3))\n",
    "print(longest_length)"
   ]
  },
  {
   "cell_type": "code",
   "execution_count": null,
   "metadata": {},
   "outputs": [],
   "source": []
  },
  {
   "cell_type": "code",
   "execution_count": null,
   "metadata": {},
   "outputs": [],
   "source": []
  },
  {
   "cell_type": "code",
   "execution_count": null,
   "metadata": {},
   "outputs": [],
   "source": []
  },
  {
   "cell_type": "code",
   "execution_count": null,
   "metadata": {},
   "outputs": [],
   "source": []
  },
  {
   "cell_type": "code",
   "execution_count": null,
   "metadata": {},
   "outputs": [],
   "source": []
  },
  {
   "cell_type": "markdown",
   "metadata": {
    "slideshow": {
     "slide_type": "slide"
    }
   },
   "source": [
    "## Formatted strings (f-strings)\n",
    "\n",
    "[Documentation on f-strings](https://docs.python.org/3/tutorial/inputoutput.html#formatted-string-literals)\n",
    "\n",
    "`Maariya's flatmates are Tommy and Jia.`\n",
    "\n",
    "`Jia's room is the largest.`"
   ]
  },
  {
   "cell_type": "code",
   "execution_count": 20,
   "metadata": {},
   "outputs": [
    {
     "name": "stdout",
     "output_type": "stream",
     "text": [
      "Charlotte's flatmates are Robb and Jia.\n",
      "Jia's room is the largest.\n"
     ]
    }
   ],
   "source": [
    "sentence = f'{name_1}\\'s flatmates are {name_2} and {name_3}.'\n",
    "sentence += f'\\n{name_3}\\'s room is the largest.'\n",
    "\n",
    "\n",
    "# sentence = \"Maariya's flatmates are Tommy and Jia.\"\n",
    "\n",
    "# print(sentence)"
   ]
  },
  {
   "cell_type": "markdown",
   "metadata": {},
   "source": [
    "`Charlotte ==> Room 1`\n",
    "\n",
    "`Robb      ==> Room 2`\n",
    "\n",
    "`Jia       ==> Room 3`"
   ]
  },
  {
   "cell_type": "code",
   "execution_count": 26,
   "metadata": {},
   "outputs": [
    {
     "name": "stdout",
     "output_type": "stream",
     "text": [
      "Charlotte       ==> Room 1\n",
      "Tommy           ==> Room 2\n",
      "Jia             ==> Room 3\n"
     ]
    }
   ],
   "source": [
    "print(f'{name_1:15} ==> Room 1')\n",
    "print(f'{name_2:15} ==> Room 2')\n",
    "print(f'{name_3:15} ==> Room 3')"
   ]
  },
  {
   "cell_type": "code",
   "execution_count": 42,
   "metadata": {},
   "outputs": [
    {
     "name": "stdout",
     "output_type": "stream",
     "text": [
      "The value of pi is  3.14159  .\n"
     ]
    }
   ],
   "source": [
    "import math\n",
    "\n",
    "print(f'The value of pi is {math.pi:^10.5f}.')"
   ]
  }
 ],
 "metadata": {
  "kernelspec": {
   "display_name": "Python 3",
   "language": "python",
   "name": "python3"
  },
  "language_info": {
   "codemirror_mode": {
    "name": "ipython",
    "version": 3
   },
   "file_extension": ".py",
   "mimetype": "text/x-python",
   "name": "python",
   "nbconvert_exporter": "python",
   "pygments_lexer": "ipython3",
   "version": "3.7.6"
  }
 },
 "nbformat": 4,
 "nbformat_minor": 4
}
