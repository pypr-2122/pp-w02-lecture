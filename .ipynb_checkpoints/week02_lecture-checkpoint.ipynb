{
 "cells": [
  {
   "cell_type": "markdown",
   "metadata": {
    "slideshow": {
     "slide_type": "slide"
    }
   },
   "source": [
    "# Week 2 session - Review: Python basics"
   ]
  },
  {
   "cell_type": "markdown",
   "metadata": {
    "slideshow": {
     "slide_type": "slide"
    }
   },
   "source": [
    "## Variable assignment\n",
    "\n",
    "What will be the output?"
   ]
  },
  {
   "cell_type": "code",
   "execution_count": 22,
   "metadata": {},
   "outputs": [
    {
     "name": "stdout",
     "output_type": "stream",
     "text": [
      "8, 10\n"
     ]
    }
   ],
   "source": [
    "# Defining our variables\n",
    "a = 4*2\n",
    "b = a\n",
    "a += 2\n",
    "\n",
    "# Display the results\n",
    "# print(str(a) + \", \" + str(b))\n",
    "# print(a, \", \", b, sep=\"\")\n",
    "string_output = f'{b}, {a}'\n",
    "print(string_output)\n",
    "# print('{}, {}'.format(a, b))\n",
    "# print('%d, %f' % (a, b))"
   ]
  },
  {
   "cell_type": "markdown",
   "metadata": {
    "slideshow": {
     "slide_type": "slide"
    }
   },
   "source": [
    "## Strings\n",
    "\n",
    "What will be the output?"
   ]
  },
  {
   "cell_type": "code",
   "execution_count": 4,
   "metadata": {},
   "outputs": [
    {
     "name": "stdout",
     "output_type": "stream",
     "text": [
      "Jia\n",
      "False\n"
     ]
    }
   ],
   "source": [
    "name_1 = 'Maariya'\n",
    "name_2 = 'Tommy'\n",
    "name_3 = 'Jia'\n",
    "\n",
    "print(min(name_1, name_2, name_3))\n",
    "print(name_1 > name_2)"
   ]
  },
  {
   "cell_type": "code",
   "execution_count": null,
   "metadata": {},
   "outputs": [],
   "source": []
  },
  {
   "cell_type": "code",
   "execution_count": null,
   "metadata": {},
   "outputs": [],
   "source": []
  },
  {
   "cell_type": "code",
   "execution_count": null,
   "metadata": {},
   "outputs": [],
   "source": []
  },
  {
   "cell_type": "code",
   "execution_count": null,
   "metadata": {},
   "outputs": [],
   "source": []
  },
  {
   "cell_type": "code",
   "execution_count": null,
   "metadata": {},
   "outputs": [],
   "source": []
  },
  {
   "cell_type": "markdown",
   "metadata": {
    "slideshow": {
     "slide_type": "slide"
    }
   },
   "source": [
    "## Formatted strings (f-strings)\n",
    "\n",
    "[Documentation on f-strings](https://docs.python.org/3/tutorial/inputoutput.html#formatted-string-literals)\n",
    "\n",
    "`Maariya's flatmates are Tommy and Jia.`\n",
    "\n",
    "`Jia's room is the largest.`"
   ]
  },
  {
   "cell_type": "code",
   "execution_count": null,
   "metadata": {},
   "outputs": [],
   "source": []
  }
 ],
 "metadata": {
  "kernelspec": {
   "display_name": "Python 3",
   "language": "python",
   "name": "python3"
  },
  "language_info": {
   "codemirror_mode": {
    "name": "ipython",
    "version": 3
   },
   "file_extension": ".py",
   "mimetype": "text/x-python",
   "name": "python",
   "nbconvert_exporter": "python",
   "pygments_lexer": "ipython3",
   "version": "3.7.6"
  }
 },
 "nbformat": 4,
 "nbformat_minor": 4
}
